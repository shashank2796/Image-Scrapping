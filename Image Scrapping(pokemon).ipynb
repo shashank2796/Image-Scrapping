{
 "cells": [
  {
   "cell_type": "code",
   "execution_count": 1,
   "metadata": {},
   "outputs": [],
   "source": [
    "import cv2\n",
    "import numpy as np\n",
    "import urllib.request\n",
    "import time"
   ]
  },
  {
   "cell_type": "code",
   "execution_count": 10,
   "metadata": {},
   "outputs": [
    {
     "name": "stdout",
     "output_type": "stream",
     "text": [
      "Saved0001.png\n",
      "Saved0002.png\n",
      "Saved0003.png\n",
      "Saved0004.png\n",
      "Saved0005.png\n",
      "Saved0006.png\n",
      "Saved0007.png\n",
      "Saved0008.png\n",
      "Saved0009.png\n",
      "Saved0010.png\n",
      "Saved0011.png\n",
      "Saved0012.png\n",
      "Saved0013.png\n",
      "Saved0014.png\n",
      "Saved0015.png\n",
      "Saved0016.png\n",
      "Saved0017.png\n",
      "Saved0018.png\n",
      "Saved0019.png\n",
      "Saved0020.png\n",
      "Saved0021.png\n",
      "Saved0022.png\n",
      "Saved0023.png\n",
      "Saved0024.png\n",
      "Saved0025.png\n",
      "Saved0026.png\n",
      "Saved0027.png\n",
      "Saved0028.png\n",
      "Saved0029.png\n",
      "Saved0030.png\n",
      "Saved0031.png\n",
      "Saved0032.png\n",
      "Saved0033.png\n",
      "Saved0034.png\n",
      "Saved0035.png\n",
      "Saved0036.png\n",
      "Saved0037.png\n",
      "Saved0038.png\n",
      "Saved0039.png\n",
      "Saved0040.png\n",
      "Saved0041.png\n",
      "Saved0042.png\n",
      "Saved0043.png\n",
      "Saved0044.png\n",
      "Saved0045.png\n",
      "Saved0046.png\n",
      "Saved0047.png\n",
      "Saved0048.png\n",
      "Saved0049.png\n",
      "Saved0050.png\n"
     ]
    }
   ],
   "source": [
    "for i in range(1,51):\n",
    "    try:\n",
    "        url = 'https://assets.pokemon.com/assets/cms2/img/pokedex/detail/' + '{:03d}'.format(i) + '.png'\n",
    "        request = urllib.request.Request(url)\n",
    "        response = urllib.request.urlopen(request)\n",
    "        binary_str = response.read()\n",
    "        byte_array = bytearray(binary_str)\n",
    "        numpy_arr  = np.asarray(byte_array,dtype='uint8')\n",
    "        image = cv2.imdecode(numpy_arr,cv2.IMREAD_UNCHANGED)\n",
    "        cv2.imwrite('/Users/shashankshivam/Desktop/images/' + '{:03d}'.format(i) + '.png' , image)\n",
    "        print('Saved' + '{:04d}'.format(i) + '.png')\n",
    "    except Exception as e:\n",
    "        print(str(e))"
   ]
  },
  {
   "cell_type": "code",
   "execution_count": null,
   "metadata": {},
   "outputs": [],
   "source": []
  }
 ],
 "metadata": {
  "kernelspec": {
   "display_name": "Python 3",
   "language": "python",
   "name": "python3"
  },
  "language_info": {
   "codemirror_mode": {
    "name": "ipython",
    "version": 3
   },
   "file_extension": ".py",
   "mimetype": "text/x-python",
   "name": "python",
   "nbconvert_exporter": "python",
   "pygments_lexer": "ipython3",
   "version": "3.6.8"
  }
 },
 "nbformat": 4,
 "nbformat_minor": 2
}
